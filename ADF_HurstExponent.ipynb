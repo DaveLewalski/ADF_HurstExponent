{
  "nbformat": 4,
  "nbformat_minor": 0,
  "metadata": {
    "colab": {
      "name": "ADF_HurstExponenet.ipynb",
      "provenance": [],
      "collapsed_sections": []
    },
    "kernelspec": {
      "name": "python3",
      "display_name": "Python 3"
    }
  },
  "cells": [
    {
      "cell_type": "code",
      "metadata": {
        "colab": {
          "base_uri": "https://localhost:8080/"
        },
        "id": "kv1QxHn8JYU7",
        "outputId": "47120609-5f14-41bc-c526-3befaf999cb2"
      },
      "source": [
        "# https://pypi.org/project/hurst/\r\n",
        "!pip install hurst"
      ],
      "execution_count": null,
      "outputs": [
        {
          "output_type": "stream",
          "text": [
            "Requirement already satisfied: hurst in /usr/local/lib/python3.6/dist-packages (0.0.5)\n",
            "Requirement already satisfied: numpy>=1.10 in /usr/local/lib/python3.6/dist-packages (from hurst) (1.19.5)\n",
            "Requirement already satisfied: pandas>=0.18 in /usr/local/lib/python3.6/dist-packages (from hurst) (1.1.5)\n",
            "Requirement already satisfied: python-dateutil>=2.7.3 in /usr/local/lib/python3.6/dist-packages (from pandas>=0.18->hurst) (2.8.1)\n",
            "Requirement already satisfied: pytz>=2017.2 in /usr/local/lib/python3.6/dist-packages (from pandas>=0.18->hurst) (2018.9)\n",
            "Requirement already satisfied: six>=1.5 in /usr/local/lib/python3.6/dist-packages (from python-dateutil>=2.7.3->pandas>=0.18->hurst) (1.15.0)\n"
          ],
          "name": "stdout"
        }
      ]
    },
    {
      "cell_type": "code",
      "metadata": {
        "colab": {
          "base_uri": "https://localhost:8080/",
          "height": 438
        },
        "id": "zeUWKAPJCAg4",
        "outputId": "b1692d6f-fa11-400c-8dfa-8d371bd19556"
      },
      "source": [
        "import statsmodels.tsa.stattools as ts\r\n",
        "from datetime import datetime\r\n",
        "import pandas_datareader as pdr\r\n",
        "from hurst import compute_Hc\r\n",
        "\r\n",
        "stonk = \"^VIX\"\r\n",
        " \r\n",
        "stock = pdr.DataReader(stonk, \"yahoo\", datetime(2010,1,1), datetime(2020,12,31))\r\n",
        "\r\n",
        "stock['Adj Close'].plot(title=str(stonk)+' Adj Closing Price')\r\n",
        "\r\n",
        "# Augmented Dickey–Fuller test (ADF) detects if a time series contains unit root. \r\n",
        "# Technically the name of unit root comes from the fact that the autoregressive \r\n",
        "# polynomial has a root on the unit circle but basically it implies nonstationary.\r\n",
        "# Main point: if ADF stat < chosen critical value, then TSA is mean reverting\r\n",
        "adf_results = ts.adfuller(stock['Adj Close'], 1)\r\n",
        "print('ADF Statistic: %f' % adf_results[0])\r\n",
        "print('p-value: %f' % adf_results[1])\r\n",
        "print('Critical Values:')\r\n",
        "for key, value in adf_results[4].items():\r\n",
        "\tprint('\\t%s: %.3f' % (key, value))\r\n",
        "\r\n",
        "if adf_results[1] > 0.05:\r\n",
        "  print('(ADF) TSA is trending')\r\n",
        "else:\r\n",
        "  print('(ADF) TSA is mean reverting')\r\n",
        "\r\n",
        "# Another way of looking at stationarity is to compare it with Geometric Brownian Motion (GBM) - Hurst exponent test. \r\n",
        "# A stationary price series is meant to diffuse more slowly than GBM.\r\n",
        "# more settings: https://github.com/Mottl/hurst/blob/master/hurst/__init__.py\r\n",
        "H, c, val = compute_Hc(stock['Adj Close'], kind='price', simplified=True)\r\n",
        "\r\n",
        "print(\"Hurst exponent = {:.3f}\".format(H))\r\n",
        "\r\n",
        "if H > 0.5:\r\n",
        "  print('(H) TSA is trending')\r\n",
        "elif H < 0.5:\r\n",
        "  print('(H) TSA is mean reverting')\r\n",
        "else:\r\n",
        "  print('(H) TSA is random')\r\n",
        "# For sliding window example: https://stackoverflow.com/questions/57096574/how-to-apply-the-hurst-exponent-in-python-in-a-rolling-window"
      ],
      "execution_count": null,
      "outputs": [
        {
          "output_type": "stream",
          "text": [
            "ADF Statistic: -5.622627\n",
            "p-value: 0.000001\n",
            "Critical Values:\n",
            "\t1%: -3.433\n",
            "\t5%: -2.863\n",
            "\t10%: -2.567\n",
            "(ADF) TSA is mean reverting\n",
            "Hurst exponent = 0.510\n",
            "(H) TSA is trending\n"
          ],
          "name": "stdout"
        },
        {
          "output_type": "display_data",
          "data": {
            "image/png": "[encoded data removed]",
            "text/plain": [
              "<Figure size 432x288 with 1 Axes>"
            ]
          },
          "metadata": {
            "tags": [],
            "needs_background": "light"
          }
        }
      ]
    },
    {
      "cell_type": "markdown",
      "metadata": {
        "id": "_S9AdM4jKQyL"
      },
      "source": [
        "## For ADF\r\n",
        "• p-value > 0.05: Fail to reject the null hypothesis (H0), the data has a unit root and is trending. <br>\r\n",
        "• p-value <= 0.05: Reject the null hypothesis (H0), the data does not have a unit root and is stationary. <br>\r\n",
        "\r\n",
        "## For Hurst\r\n",
        "• H < 0.5 - The time series is mean reverting <br>\r\n",
        "• H = 0.5 - The time series is a Geometric Brownian Motion<br>\r\n",
        "• H > 0.5 - The time series is trending<br>\r\n"
      ]
    },
    {
      "cell_type": "code",
      "metadata": {
        "id": "xhHv7SSvQymi"
      },
      "source": [
        ""
      ],
      "execution_count": null,
      "outputs": []
    }
  ]
}
